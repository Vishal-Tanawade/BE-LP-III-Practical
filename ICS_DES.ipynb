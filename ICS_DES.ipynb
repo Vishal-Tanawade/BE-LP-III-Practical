{
 "cells": [
  {
   "cell_type": "code",
   "execution_count": 1,
   "id": "d796fb56",
   "metadata": {},
   "outputs": [
    {
     "name": "stdout",
     "output_type": "stream",
     "text": [
      "Requirement already satisfied: PyCryptodome in c:\\users\\vishal tanawade\\appdata\\local\\programs\\python\\python310\\lib\\site-packages (3.14.1)\n"
     ]
    },
    {
     "name": "stderr",
     "output_type": "stream",
     "text": [
      "WARNING: You are using pip version 22.0.4; however, version 22.1 is available.\n",
      "You should consider upgrading via the 'C:\\Users\\Vishal Tanawade\\AppData\\Local\\Programs\\Python\\Python310\\python.exe -m pip install --upgrade pip' command.\n"
     ]
    }
   ],
   "source": [
    "!pip install PyCryptodome"
   ]
  },
  {
   "cell_type": "code",
   "execution_count": 11,
   "id": "f38f7f8a",
   "metadata": {},
   "outputs": [],
   "source": [
    "from Crypto.Cipher import DES\n",
    "from secrets import token_bytes"
   ]
  },
  {
   "cell_type": "code",
   "execution_count": 12,
   "id": "7eb140cf",
   "metadata": {},
   "outputs": [],
   "source": [
    "key = token_bytes(8)"
   ]
  },
  {
   "cell_type": "code",
   "execution_count": 13,
   "id": "eb739ed9",
   "metadata": {},
   "outputs": [],
   "source": [
    "def encrypt(msg):\n",
    "    \"\"\"In cryptography, a nonce ( number once) is an arbitrary number that \n",
    "    can be used just once in a cryptographic communicationIn cryptography, a message authentication code (MAC), \n",
    "    sometimes known as a tag, is a short piece of information used to authenticate a message\n",
    "    \"\"\"\n",
    "    cipher = DES.new(key,DES.MODE_EAX)\n",
    "    nonce = cipher.nonce\n",
    "    ciphertext,tag = cipher.encrypt_and_digest(msg.encode('ascii'))\n",
    "    return nonce,ciphertext,tag"
   ]
  },
  {
   "cell_type": "code",
   "execution_count": 14,
   "id": "18c014b4",
   "metadata": {},
   "outputs": [],
   "source": [
    "def decrypt(nonce,ciphertext,tag):\n",
    "    cipher = DES.new(key,DES.MODE_EAX,nonce=nonce)\n",
    "    plaintext = cipher.decrypt(ciphertext)\n",
    "    \n",
    "    try:\n",
    "        cipher.verify(tag)\n",
    "        return plaintext.decode('ascii')\n",
    "    except:\n",
    "        return False\n",
    "    "
   ]
  },
  {
   "cell_type": "code",
   "execution_count": 15,
   "id": "b28b9b5e",
   "metadata": {},
   "outputs": [
    {
     "name": "stdout",
     "output_type": "stream",
     "text": [
      "Enter a message: Vishal\n",
      "Cipher text: b'\\x85\\xafh f\\xf4'\n",
      "Plain text: Vishal\n"
     ]
    }
   ],
   "source": [
    "nonce,ciphertext,tag = encrypt(input(\"Enter a message: \"))\n",
    "plaintext = decrypt(nonce,ciphertext,tag)\n",
    "\n",
    "print(f'Cipher text: {ciphertext}')\n",
    "\n",
    "if not plaintext:\n",
    "    print(\"Message is corrupted!!!\")\n",
    "else:\n",
    "    print(f'Plain text: {plaintext}')"
   ]
  },
  {
   "cell_type": "code",
   "execution_count": null,
   "id": "549399a4",
   "metadata": {},
   "outputs": [],
   "source": []
  },
  {
   "cell_type": "code",
   "execution_count": null,
   "id": "974a6d8a",
   "metadata": {},
   "outputs": [],
   "source": []
  },
  {
   "cell_type": "code",
   "execution_count": null,
   "id": "57e327b6",
   "metadata": {},
   "outputs": [],
   "source": []
  },
  {
   "cell_type": "code",
   "execution_count": null,
   "id": "1270c415",
   "metadata": {},
   "outputs": [],
   "source": []
  }
 ],
 "metadata": {
  "kernelspec": {
   "display_name": "Python 3 (ipykernel)",
   "language": "python",
   "name": "python3"
  },
  "language_info": {
   "codemirror_mode": {
    "name": "ipython",
    "version": 3
   },
   "file_extension": ".py",
   "mimetype": "text/x-python",
   "name": "python",
   "nbconvert_exporter": "python",
   "pygments_lexer": "ipython3",
   "version": "3.10.4"
  }
 },
 "nbformat": 4,
 "nbformat_minor": 5
}
