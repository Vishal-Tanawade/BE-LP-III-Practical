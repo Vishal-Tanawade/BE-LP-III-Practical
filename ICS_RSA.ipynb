{
 "cells": [
  {
   "cell_type": "code",
   "execution_count": 86,
   "id": "a3662c60",
   "metadata": {},
   "outputs": [
    {
     "name": "stdout",
     "output_type": "stream",
     "text": [
      "Enter value of p, (Prime number)\n",
      "17\n",
      "Enter value of q, (Prime number)\n",
      "29\n"
     ]
    }
   ],
   "source": [
    "print(\"Enter value of p, (Prime number)\")\n",
    "p=int(input())\n",
    "print(\"Enter value of q, (Prime number)\")\n",
    "q=int(input())"
   ]
  },
  {
   "cell_type": "code",
   "execution_count": 87,
   "id": "298d3054",
   "metadata": {},
   "outputs": [],
   "source": [
    "n=p*q\n",
    "r=(p-1)*(q-1)"
   ]
  },
  {
   "cell_type": "code",
   "execution_count": 88,
   "id": "089656e5",
   "metadata": {},
   "outputs": [
    {
     "name": "stdout",
     "output_type": "stream",
     "text": [
      "n= 493 \n",
      "r= 448\n"
     ]
    }
   ],
   "source": [
    "print(\"n=\",n,\"\\nr=\",r)"
   ]
  },
  {
   "cell_type": "code",
   "execution_count": 103,
   "id": "5bd5d4fe",
   "metadata": {},
   "outputs": [
    {
     "name": "stdout",
     "output_type": "stream",
     "text": [
      "Enter value of e such that ===> \n",
      "1<= e <=r ( 448 )   and  e is coprime with r ( 448 )\n",
      "5\n"
     ]
    }
   ],
   "source": [
    "print(\"Enter value of e such that ===> \\n1<= e <=r (\",r,\")   and  e is coprime with r (\",r,\")\")\n",
    "e=int(input())"
   ]
  },
  {
   "cell_type": "code",
   "execution_count": 104,
   "id": "e0aa489f",
   "metadata": {},
   "outputs": [],
   "source": [
    "d=(1/(e))%r"
   ]
  },
  {
   "cell_type": "code",
   "execution_count": 105,
   "id": "05df92a1",
   "metadata": {},
   "outputs": [],
   "source": [
    "for i in range(100):\n",
    "    if int(d)==d:\n",
    "        break\n",
    "    d=((r*i)+1)/e "
   ]
  },
  {
   "cell_type": "code",
   "execution_count": 106,
   "id": "63067dda",
   "metadata": {},
   "outputs": [],
   "source": [
    "d=int(d)"
   ]
  },
  {
   "cell_type": "code",
   "execution_count": 107,
   "id": "584cffcc",
   "metadata": {},
   "outputs": [
    {
     "name": "stdout",
     "output_type": "stream",
     "text": [
      "d= 269\n"
     ]
    }
   ],
   "source": [
    "print(\"d=\",d)"
   ]
  },
  {
   "cell_type": "code",
   "execution_count": 108,
   "id": "a18adf9f",
   "metadata": {},
   "outputs": [
    {
     "name": "stdout",
     "output_type": "stream",
     "text": [
      "Enter Message to be encrypt.\n",
      "10\n"
     ]
    }
   ],
   "source": [
    "print(\"Enter Message to be encrypt.\")\n",
    "M=int(input())"
   ]
  },
  {
   "cell_type": "code",
   "execution_count": 109,
   "id": "ab83d3f3",
   "metadata": {
    "scrolled": true
   },
   "outputs": [
    {
     "name": "stdout",
     "output_type": "stream",
     "text": [
      "Finding Cipher Text....\n"
     ]
    }
   ],
   "source": [
    "print(\"Finding Cipher Text....\")"
   ]
  },
  {
   "cell_type": "code",
   "execution_count": 110,
   "id": "f9affc40",
   "metadata": {},
   "outputs": [],
   "source": [
    "cipher_text=(pow(M,e))%n"
   ]
  },
  {
   "cell_type": "code",
   "execution_count": 111,
   "id": "1ffdb1f9",
   "metadata": {},
   "outputs": [
    {
     "name": "stdout",
     "output_type": "stream",
     "text": [
      "Cipher Text = 414\n"
     ]
    }
   ],
   "source": [
    "print(\"Cipher Text =\",cipher_text)"
   ]
  },
  {
   "cell_type": "code",
   "execution_count": 112,
   "id": "9c6eaaa5",
   "metadata": {},
   "outputs": [
    {
     "name": "stdout",
     "output_type": "stream",
     "text": [
      "Finding Plain Text....\n"
     ]
    }
   ],
   "source": [
    "print(\"Finding Plain Text....\")"
   ]
  },
  {
   "cell_type": "code",
   "execution_count": 113,
   "id": "fd906d36",
   "metadata": {},
   "outputs": [],
   "source": [
    "plain_text=(pow(cipher_text,d))%n"
   ]
  },
  {
   "cell_type": "code",
   "execution_count": 114,
   "id": "768c5310",
   "metadata": {},
   "outputs": [
    {
     "name": "stdout",
     "output_type": "stream",
     "text": [
      "plaintext= 10\n"
     ]
    }
   ],
   "source": [
    "print(\"plaintext=\",plain_text)"
   ]
  },
  {
   "cell_type": "code",
   "execution_count": null,
   "id": "2a7ae3a8",
   "metadata": {},
   "outputs": [],
   "source": []
  },
  {
   "cell_type": "code",
   "execution_count": null,
   "id": "0819d466",
   "metadata": {},
   "outputs": [],
   "source": []
  },
  {
   "cell_type": "code",
   "execution_count": null,
   "id": "7ceaaa61",
   "metadata": {},
   "outputs": [],
   "source": []
  }
 ],
 "metadata": {
  "kernelspec": {
   "display_name": "Python 3 (ipykernel)",
   "language": "python",
   "name": "python3"
  },
  "language_info": {
   "codemirror_mode": {
    "name": "ipython",
    "version": 3
   },
   "file_extension": ".py",
   "mimetype": "text/x-python",
   "name": "python",
   "nbconvert_exporter": "python",
   "pygments_lexer": "ipython3",
   "version": "3.10.4"
  }
 },
 "nbformat": 4,
 "nbformat_minor": 5
}
