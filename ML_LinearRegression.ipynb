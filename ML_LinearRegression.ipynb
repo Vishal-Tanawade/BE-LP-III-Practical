{
 "cells": [
  {
   "cell_type": "code",
   "execution_count": 63,
   "id": "b384a5d6",
   "metadata": {},
   "outputs": [],
   "source": [
    "import numpy as np\n",
    "import matplotlib.pyplot as plt\n",
    "import pandas as pd\n",
    "from sklearn.linear_model import LinearRegression\n",
    "from sklearn.metrics import confusion_matrix"
   ]
  },
  {
   "cell_type": "code",
   "execution_count": 64,
   "id": "69ec7a76",
   "metadata": {},
   "outputs": [],
   "source": [
    "dataset = pd.read_csv(\"linear_regression_dataset.csv\")\n"
   ]
  },
  {
   "cell_type": "code",
   "execution_count": 65,
   "id": "6e98d126",
   "metadata": {},
   "outputs": [],
   "source": [
    "x = dataset.iloc[:,:-1].values\n",
    "y = dataset.iloc[:,1].values"
   ]
  },
  {
   "cell_type": "code",
   "execution_count": 66,
   "id": "372e1b60",
   "metadata": {},
   "outputs": [
    {
     "data": {
      "text/plain": [
       "array([[10],\n",
       "       [ 9],\n",
       "       [ 2],\n",
       "       [15],\n",
       "       [10],\n",
       "       [16],\n",
       "       [11],\n",
       "       [16]], dtype=int64)"
      ]
     },
     "execution_count": 66,
     "metadata": {},
     "output_type": "execute_result"
    }
   ],
   "source": [
    "x"
   ]
  },
  {
   "cell_type": "code",
   "execution_count": 67,
   "id": "bca1b201",
   "metadata": {},
   "outputs": [],
   "source": [
    "regressor = LinearRegression()"
   ]
  },
  {
   "cell_type": "code",
   "execution_count": 68,
   "id": "6bcf8abb",
   "metadata": {},
   "outputs": [
    {
     "data": {
      "text/plain": [
       "LinearRegression()"
      ]
     },
     "execution_count": 68,
     "metadata": {},
     "output_type": "execute_result"
    }
   ],
   "source": [
    "regressor.fit(x,y) "
   ]
  },
  {
   "cell_type": "code",
   "execution_count": 69,
   "id": "36e28e62",
   "metadata": {},
   "outputs": [
    {
     "name": "stdout",
     "output_type": "stream",
     "text": [
      "Coefficient :  [4.58789861]\n",
      "intercept :  12.584627964022907\n",
      "Accuracy :  43.709481451010035\n",
      "[49.28781684]\n"
     ]
    }
   ],
   "source": [
    "print(\"Coefficient : \",regressor.coef_)\n",
    "\n",
    "print(\"intercept : \",regressor.intercept_)\n",
    "\n",
    "accuracy = regressor.score(x,y)*100\n",
    "print(\"Accuracy : \",accuracy)\n",
    "\n",
    "y_pred = regressor.predict([[8]])\n",
    "print(y_pred)\n",
    "\n"
   ]
  },
  {
   "cell_type": "code",
   "execution_count": 83,
   "id": "08dd34b7",
   "metadata": {},
   "outputs": [
    {
     "name": "stdout",
     "output_type": "stream",
     "text": [
      "Enter the no of hours : 2\n",
      "[21.76042518]\n"
     ]
    }
   ],
   "source": [
    "hours = int(input(\"Enter the no of hours : \"))\n",
    "predicted_value = regressor.predict([[hours]])\n",
    "print(predicted_value)\n"
   ]
  },
  {
   "cell_type": "code",
   "execution_count": 71,
   "id": "3573d981",
   "metadata": {},
   "outputs": [
    {
     "data": {
      "image/png": "[encoded data removed]",
      "text/plain": [
       "<Figure size 432x288 with 1 Axes>"
      ]
     },
     "metadata": {
      "needs_background": "light"
     },
     "output_type": "display_data"
    }
   ],
   "source": [
    "plt.plot(x,y,'o', label=\"data point\")\n",
    "plt.plot(x,regressor.predict(x), color='#ff0000', label='regression line')\n",
    "\n",
    "# x-axis label\n",
    "plt.xlabel('Driving Hours')\n",
    "\n",
    "#y-axis label\n",
    "plt.ylabel('Risk Score')\n",
    "\n",
    "plt.legend()\n",
    "plt.show()\n",
    "\n"
   ]
  },
  {
   "cell_type": "code",
   "execution_count": 72,
   "id": "26fc06ab",
   "metadata": {},
   "outputs": [],
   "source": [
    "ypr=regressor.predict(x)"
   ]
  },
  {
   "cell_type": "code",
   "execution_count": 82,
   "id": "57fa7513",
   "metadata": {},
   "outputs": [
    {
     "data": {
      "text/plain": [
       "array([58.46361406, 53.87571545, 21.76042518, 81.40310711, 58.46361406,\n",
       "       85.99100572, 63.05151267, 85.99100572])"
      ]
     },
     "execution_count": 82,
     "metadata": {},
     "output_type": "execute_result"
    }
   ],
   "source": [
    "ypr"
   ]
  },
  {
   "cell_type": "code",
   "execution_count": null,
   "id": "5eb090c4",
   "metadata": {},
   "outputs": [],
   "source": []
  }
 ],
 "metadata": {
  "kernelspec": {
   "display_name": "Python 3 (ipykernel)",
   "language": "python",
   "name": "python3"
  },
  "language_info": {
   "codemirror_mode": {
    "name": "ipython",
    "version": 3
   },
   "file_extension": ".py",
   "mimetype": "text/x-python",
   "name": "python",
   "nbconvert_exporter": "python",
   "pygments_lexer": "ipython3",
   "version": "3.10.4"
  }
 },
 "nbformat": 4,
 "nbformat_minor": 5
}
