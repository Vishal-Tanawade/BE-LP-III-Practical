{
 "cells": [
  {
   "cell_type": "code",
   "execution_count": 1,
   "id": "e5476702",
   "metadata": {},
   "outputs": [
    {
     "name": "stdout",
     "output_type": "stream",
     "text": [
      "Requirement already satisfied: PyCryptodome in c:\\users\\vishal tanawade\\appdata\\local\\programs\\python\\python310\\lib\\site-packages (3.14.1)\n"
     ]
    },
    {
     "name": "stderr",
     "output_type": "stream",
     "text": [
      "WARNING: You are using pip version 22.0.4; however, version 22.1 is available.\n",
      "You should consider upgrading via the 'C:\\Users\\Vishal Tanawade\\AppData\\Local\\Programs\\Python\\Python310\\python.exe -m pip install --upgrade pip' command.\n"
     ]
    }
   ],
   "source": [
    "!pip install PyCryptodome"
   ]
  },
  {
   "cell_type": "code",
   "execution_count": 2,
   "id": "3724d4ac",
   "metadata": {},
   "outputs": [],
   "source": [
    "from Crypto.Cipher import AES\n",
    "from secrets import token_bytes"
   ]
  },
  {
   "cell_type": "code",
   "execution_count": 4,
   "id": "29774b98",
   "metadata": {},
   "outputs": [],
   "source": [
    "key = token_bytes(16)"
   ]
  },
  {
   "cell_type": "code",
   "execution_count": 13,
   "id": "6f90f52b",
   "metadata": {},
   "outputs": [],
   "source": [
    "def encrypt(msg):\n",
    "    \n",
    "    \"\"\"In cryptography, a nonce ( number once) is an arbitrary number that \n",
    "    can be used just once in a cryptographic communicationIn cryptography, a message authentication code (MAC), \n",
    "    sometimes known as a tag, is a short piece of information used to authenticate a message\n",
    "    \"\"\"\n",
    "    cipher = AES.new(key,AES.MODE_EAX)\n",
    "    nonce = cipher.nonce\n",
    "    ciphertext,tag = cipher.encrypt_and_digest(msg.encode('ascii'))\n",
    "    return nonce,ciphertext,tag"
   ]
  },
  {
   "cell_type": "code",
   "execution_count": 14,
   "id": "7acbb571",
   "metadata": {},
   "outputs": [],
   "source": [
    "def decrypt(nonce,ciphertext,tag):\n",
    "    cipher = AES.new(key,AES.MODE_EAX,nonce = nonce)\n",
    "    plaintext = cipher.decrypt(ciphertext)\n",
    "    \n",
    "    try:\n",
    "        cipher.verify(tag)\n",
    "        return plaintext.decode('ascii')\n",
    "    except:\n",
    "        return False"
   ]
  },
  {
   "cell_type": "code",
   "execution_count": 15,
   "id": "4ff0d89d",
   "metadata": {},
   "outputs": [
    {
     "name": "stdout",
     "output_type": "stream",
     "text": [
      "Enter a message: Vishal tanawade\n",
      "Cipher text:  b'w4{\\x00\\xa0\\xad\\x00i\\x1b\\xba\\xc5:\\xca\"['\n",
      "Plain text:  Vishal tanawade\n"
     ]
    }
   ],
   "source": [
    "nonce,ciphertext,tag = encrypt(input(\"Enter a message: \"))\n",
    "plaintext = decrypt(nonce,ciphertext,tag)\n",
    "\n",
    "print(\"Cipher text: \", ciphertext)\n",
    "\n",
    "if not plaintext:\n",
    "    print('Message is corrupted!!!')\n",
    "else:\n",
    "    print(\"Plain text: \", plaintext)"
   ]
  },
  {
   "cell_type": "code",
   "execution_count": null,
   "id": "92ba1358",
   "metadata": {},
   "outputs": [],
   "source": []
  }
 ],
 "metadata": {
  "kernelspec": {
   "display_name": "Python 3 (ipykernel)",
   "language": "python",
   "name": "python3"
  },
  "language_info": {
   "codemirror_mode": {
    "name": "ipython",
    "version": 3
   },
   "file_extension": ".py",
   "mimetype": "text/x-python",
   "name": "python",
   "nbconvert_exporter": "python",
   "pygments_lexer": "ipython3",
   "version": "3.10.4"
  }
 },
 "nbformat": 4,
 "nbformat_minor": 5
}
