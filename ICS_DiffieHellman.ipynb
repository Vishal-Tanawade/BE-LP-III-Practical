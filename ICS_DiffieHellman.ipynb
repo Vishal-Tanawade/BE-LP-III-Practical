{
 "cells": [
  {
   "cell_type": "code",
   "execution_count": 2,
   "id": "71d950aa",
   "metadata": {},
   "outputs": [
    {
     "name": "stdout",
     "output_type": "stream",
     "text": [
      "Enter the value of g (prime number)\n",
      "5\n",
      "Enter the value of p (prime number)\n",
      "7\n"
     ]
    }
   ],
   "source": [
    "print(\"Enter the value of g (prime number)\")\n",
    "g=int(input())\n",
    "print(\"Enter the value of p (prime number)\")\n",
    "p=int(input())"
   ]
  },
  {
   "cell_type": "code",
   "execution_count": 3,
   "id": "475e84c8",
   "metadata": {},
   "outputs": [
    {
     "name": "stdout",
     "output_type": "stream",
     "text": [
      "Enter the value of a \n",
      "2\n"
     ]
    }
   ],
   "source": [
    "print(\"Enter the value of a \")\n",
    "a=int(input())"
   ]
  },
  {
   "cell_type": "code",
   "execution_count": 4,
   "id": "b91655ab",
   "metadata": {},
   "outputs": [
    {
     "name": "stdout",
     "output_type": "stream",
     "text": [
      "A= 4\n"
     ]
    }
   ],
   "source": [
    "A=(pow(g,a))%p\n",
    "print(\"A=\",A)"
   ]
  },
  {
   "cell_type": "code",
   "execution_count": 5,
   "id": "c6b4cffe",
   "metadata": {},
   "outputs": [
    {
     "name": "stdout",
     "output_type": "stream",
     "text": [
      "Enter the value of b\n",
      "3\n"
     ]
    }
   ],
   "source": [
    "print(\"Enter the value of b\")\n",
    "b=int(input())"
   ]
  },
  {
   "cell_type": "code",
   "execution_count": 6,
   "id": "c0b0a233",
   "metadata": {},
   "outputs": [
    {
     "name": "stdout",
     "output_type": "stream",
     "text": [
      "B= 6\n"
     ]
    }
   ],
   "source": [
    "B=(pow(g,b))%p\n",
    "print(\"B=\",B)"
   ]
  },
  {
   "cell_type": "code",
   "execution_count": 7,
   "id": "04e3b95c",
   "metadata": {},
   "outputs": [
    {
     "name": "stdout",
     "output_type": "stream",
     "text": [
      "Shared Key 1= 1\n",
      "Shared Key 2= 1\n"
     ]
    }
   ],
   "source": [
    "shared_key1=(pow(B,a))%p\n",
    "shared_key2=(pow(A,b))%p\n",
    "print(\"Shared Key 1=\",shared_key1)\n",
    "print(\"Shared Key 2=\",shared_key2)\n"
   ]
  },
  {
   "cell_type": "code",
   "execution_count": null,
   "id": "c651ef10",
   "metadata": {},
   "outputs": [],
   "source": []
  }
 ],
 "metadata": {
  "kernelspec": {
   "display_name": "Python 3 (ipykernel)",
   "language": "python",
   "name": "python3"
  },
  "language_info": {
   "codemirror_mode": {
    "name": "ipython",
    "version": 3
   },
   "file_extension": ".py",
   "mimetype": "text/x-python",
   "name": "python",
   "nbconvert_exporter": "python",
   "pygments_lexer": "ipython3",
   "version": "3.10.4"
  }
 },
 "nbformat": 4,
 "nbformat_minor": 5
}
