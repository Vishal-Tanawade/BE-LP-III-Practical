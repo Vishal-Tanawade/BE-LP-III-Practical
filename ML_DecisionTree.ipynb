{
 "cells": [
  {
   "cell_type": "code",
   "execution_count": 30,
   "metadata": {
    "colab": {
     "base_uri": "https://localhost:8080/"
    },
    "id": "UFw1EROQRfgO",
    "outputId": "a6595ab0-95c6-4191-94b6-4162a84d42ca"
   },
   "outputs": [],
   "source": [
    "import numpy as np\n",
    "import pandas as pd\n",
    "from sklearn.preprocessing import LabelEncoder\n",
    "from sklearn.metrics import confusion_matrix,classification_report\n",
    "import seaborn as sn\n",
    "import matplotlib.pyplot as plt\n",
    "from sklearn.tree import DecisionTreeClassifier as DTC\n"
   ]
  },
  {
   "cell_type": "code",
   "execution_count": 16,
   "metadata": {},
   "outputs": [
    {
     "name": "stdout",
     "output_type": "stream",
     "text": [
      "    AGE  INCOME  Gender  Maritial  Buys\n",
      "0     1       0       1         1     0\n",
      "1     1       0       1         0     0\n",
      "2     0       0       1         1     1\n",
      "3     2       2       1         1     1\n",
      "4     2       1       0         1     1\n",
      "5     2       1       0         0     0\n",
      "6     0       1       0         0     1\n",
      "7     1       2       1         1     0\n",
      "8     1       1       0         0     1\n",
      "9     2       2       0         1     1\n",
      "10    1       2       0         0     1\n",
      "11    0       2       1         0     1\n",
      "12    0       0       0         1     1\n",
      "13    2       2       1         0     0\n"
     ]
    }
   ],
   "source": [
    "dataset = pd.read_csv(\"decision_Tree_dataset.csv\")\n",
    "\n",
    "labelencoder_x = LabelEncoder()\n",
    "dataset = dataset.apply(LabelEncoder().fit_transform)\n",
    "print(dataset)"
   ]
  },
  {
   "cell_type": "code",
   "execution_count": 11,
   "metadata": {
    "colab": {
     "base_uri": "https://localhost:8080/"
    },
    "id": "Eo6wxpEpVQZd",
    "outputId": "4282d7d7-5d31-4328-9187-ded60215cf1e"
   },
   "outputs": [
    {
     "name": "stdout",
     "output_type": "stream",
     "text": [
      "[[1 0 1 1]\n",
      " [1 0 1 0]\n",
      " [0 0 1 1]\n",
      " [2 2 1 1]\n",
      " [2 1 0 1]\n",
      " [2 1 0 0]\n",
      " [0 1 0 0]\n",
      " [1 2 1 1]\n",
      " [1 1 0 0]\n",
      " [2 2 0 1]\n",
      " [1 2 0 0]\n",
      " [0 2 1 0]\n",
      " [0 0 0 1]\n",
      " [2 2 1 0]]\n",
      "[0 0 1 1 1 0 1 0 1 1 1 1 1 0]\n"
     ]
    }
   ],
   "source": [
    "x = dataset.iloc[ : ,  : -1].values\n",
    "y = dataset['Buys'].values\n",
    "print(x)\n",
    "print(y)\n"
   ]
  },
  {
   "cell_type": "code",
   "execution_count": 17,
   "metadata": {
    "colab": {
     "base_uri": "https://localhost:8080/"
    },
    "id": "EUQ0tej5X5vk",
    "outputId": "861978ef-42ac-4614-9b0e-6f9395166eb7"
   },
   "outputs": [
    {
     "name": "stdout",
     "output_type": "stream",
     "text": [
      "[0 1]\n",
      "1.0\n"
     ]
    }
   ],
   "source": [
    "# applying decision tree classifier\n",
    "\n",
    "c = DTC()\n",
    "c = c.fit(x, y)\n",
    "\n",
    "#predicting\n",
    "print(c.predict([[2, 0, 1, 0],[1,0,0,0]]))\n",
    "print(c.score(x,y))\n",
    "\n",
    "#output\n",
    "# array([0, 1]) --> 0=No , 1=Yes"
   ]
  },
  {
   "cell_type": "code",
   "execution_count": 32,
   "metadata": {},
   "outputs": [
    {
     "data": {
      "text/plain": [
       "Text(33.0, 0.5, 'True')"
      ]
     },
     "execution_count": 32,
     "metadata": {},
     "output_type": "execute_result"
    },
    {
     "data": {
      "image/png": "[encoded data removed]",
      "text/plain": [
       "<Figure size 432x288 with 2 Axes>"
      ]
     },
     "metadata": {
      "needs_background": "light"
     },
     "output_type": "display_data"
    }
   ],
   "source": [
    "cm= confusion_matrix(y, c.predict(x))\n",
    "sn.heatmap(cm, annot=True)\n",
    "plt.xlabel(\"Predicted\")\n",
    "plt.ylabel(\"True\")"
   ]
  },
  {
   "cell_type": "code",
   "execution_count": null,
   "metadata": {},
   "outputs": [],
   "source": []
  }
 ],
 "metadata": {
  "colab": {
   "name": "DecisionTree.ipynb",
   "provenance": []
  },
  "kernelspec": {
   "display_name": "Python 3 (ipykernel)",
   "language": "python",
   "name": "python3"
  },
  "language_info": {
   "codemirror_mode": {
    "name": "ipython",
    "version": 3
   },
   "file_extension": ".py",
   "mimetype": "text/x-python",
   "name": "python",
   "nbconvert_exporter": "python",
   "pygments_lexer": "ipython3",
   "version": "3.10.4"
  }
 },
 "nbformat": 4,
 "nbformat_minor": 1
}
