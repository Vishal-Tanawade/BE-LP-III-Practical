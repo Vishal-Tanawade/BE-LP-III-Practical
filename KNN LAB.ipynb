{
 "cells": [
  {
   "cell_type": "code",
   "execution_count": 3,
   "id": "8cd73fae",
   "metadata": {},
   "outputs": [],
   "source": [
    "import math"
   ]
  },
  {
   "cell_type": "code",
   "execution_count": 8,
   "id": "af47d7ab",
   "metadata": {},
   "outputs": [],
   "source": [
    "def euclidean_distance(row1, row2):\n",
    "    distance = 0.0\n",
    "    for i in range(len(row1)-1):\n",
    "        distance += (row1[i] - row2[i])**2\n",
    "    return math.sqrt(distance)"
   ]
  },
  {
   "cell_type": "code",
   "execution_count": 9,
   "id": "ebdc78ed",
   "metadata": {},
   "outputs": [],
   "source": [
    "def get_neighbors(train, test_row, num_neighbors):\n",
    "    distances = list()\n",
    "    for train_row in train:\n",
    "        dist = euclidean_distance(train_row, test_row)\n",
    "        distances.append((train_row, dist))\n",
    "    distances.sort(key=lambda tup: tup[1])\n",
    "    neighbors = list()\n",
    "    for i in range(num_neighbors):\n",
    "        neighbors.append(distances[i][0])\n",
    "    return neighbors"
   ]
  },
  {
   "cell_type": "code",
   "execution_count": 17,
   "id": "1f4ba923",
   "metadata": {},
   "outputs": [],
   "source": [
    "train_data = [[2, 4, \"Orange\"], [4, 4, \"Blue\"], [4, 6, \"Orange\"], [4, 2, \"Orange\"], [6, 2, \"Blue\"], [6, 4, \"Orange\"]]\n",
    "test_data = [[6, 6]]"
   ]
  },
  {
   "cell_type": "code",
   "execution_count": 18,
   "id": "ac09786c",
   "metadata": {},
   "outputs": [
    {
     "name": "stdout",
     "output_type": "stream",
     "text": [
      "Data point :  [6, 6]\n",
      "Nearest Neighbors :  [[4, 6, 'Orange'], [6, 4, 'Orange'], [4, 4, 'Blue']]\n",
      "Prediction :  Orange \n",
      "\n"
     ]
    }
   ],
   "source": [
    "for item in test_data:\n",
    "    print(\"Data point : \", item)\n",
    "    neighbors = get_neighbors(train_data, item, 3)\n",
    "    print(\"Nearest Neighbors : \", neighbors)\n",
    "    output_values = [row[-1] for row in neighbors]\n",
    "    prediction = max(set(output_values), key=output_values.count)\n",
    "    print(\"Prediction : \", prediction, \"\\n\")\n",
    "\n"
   ]
  },
  {
   "cell_type": "code",
   "execution_count": null,
   "id": "370849b1",
   "metadata": {},
   "outputs": [],
   "source": []
  }
 ],
 "metadata": {
  "kernelspec": {
   "display_name": "Python 3 (ipykernel)",
   "language": "python",
   "name": "python3"
  },
  "language_info": {
   "codemirror_mode": {
    "name": "ipython",
    "version": 3
   },
   "file_extension": ".py",
   "mimetype": "text/x-python",
   "name": "python",
   "nbconvert_exporter": "python",
   "pygments_lexer": "ipython3",
   "version": "3.10.4"
  }
 },
 "nbformat": 4,
 "nbformat_minor": 5
}
